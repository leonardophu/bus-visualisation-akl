{
 "cells": [
  {
   "cell_type": "code",
   "execution_count": 2,
   "metadata": {},
   "outputs": [],
   "source": [
    "import pandas as pd\n",
    "from sqlalchemy import create_engine\n",
    "import psycopg2"
   ]
  },
  {
   "cell_type": "code",
   "execution_count": 3,
   "metadata": {},
   "outputs": [],
   "source": [
    "# Replace these with your PostgreSQL connection details\n",
    "db_username = \"postgres\"\n",
    "db_password = \"postgres\"\n",
    "db_host = \"localhost\"\n",
    "db_port = \"5432\"\n",
    "db_name = \"bus_trial\"\n",
    "\n",
    "# Create a database connection string\n",
    "db_uri = f\"postgresql://{db_username}:{db_password}@{db_host}:{db_port}/{db_name}\"\n",
    "\n",
    "# Create a SQLAlchemy engine\n",
    "engine = create_engine(db_uri)"
   ]
  },
  {
   "cell_type": "code",
   "execution_count": 4,
   "metadata": {},
   "outputs": [],
   "source": [
    "# Reading in bus static files\n",
    "stops = pd.read_csv(\"../businfo/stops.txt\", sep=\",\", quotechar='\"')\n",
    "stop_times = pd.read_csv(\"../businfo/stop_times.txt\", sep=\",\", quotechar='\"')\n",
    "trips = pd.read_csv(\"../businfo/trips.txt\", sep=\",\", quotechar='\"', keep_default_na=False)\n",
    "routes = pd.read_csv(\"../businfo/routes.txt\", sep=\",\", quotechar='\"')\n",
    "shapes = pd.read_csv(\"../businfo/shapes.txt\", sep=\",\", quotechar='\"')"
   ]
  },
  {
   "cell_type": "code",
   "execution_count": 5,
   "metadata": {},
   "outputs": [
    {
     "name": "stdout",
     "output_type": "stream",
     "text": [
      "       route_id             shape_id\n",
      "10276   101-202  1254-10102-fb115bad\n",
      "10241   101-202  1254-10101-0364cb33\n",
      "10491   105-202  1255-10502-96fc54a9\n",
      "9184    105-202  1255-10501-b6191044\n",
      "10714   106-202  1256-10601-5d7e5c62\n",
      "...         ...                  ...\n",
      "24411  WEST-201  247-810195-13525d16\n",
      "24560  WEST-201  247-810201-940b3d61\n",
      "24329  WEST-201  247-810146-8a99de9f\n",
      "26874  WSTH-211   518-99512-09b35bfe\n",
      "26858  WSTH-211   518-99511-285aec69\n",
      "\n",
      "[574 rows x 2 columns]\n"
     ]
    }
   ],
   "source": [
    "stop_times['stop_code'] = stop_times['stop_id'].str.extract(r'(.+)-')[0]\n",
    "\n",
    "# Creating a DataFrame with unique pairs of route_id and shape_id\n",
    "unique_pairs = trips[['route_id', 'shape_id']].drop_duplicates().sort_values(by='route_id')\n",
    "shape_data = shapes.groupby('shape_id').apply(lambda group: group.sort_values('shape_pt_sequence')[['shape_pt_lon', 'shape_pt_lat']].values.tolist()).reset_index(name='location')\n",
    "print(unique_pairs)"
   ]
  },
  {
   "cell_type": "code",
   "execution_count": 6,
   "metadata": {},
   "outputs": [
    {
     "name": "stdout",
     "output_type": "stream",
     "text": [
      "                shape_id                                           location\n",
      "0    1010-98109-d221c68a  [[174.70832, -36.54528], [174.70836, -36.54519...\n",
      "1    1010-98110-34e6d81d  [[174.66655, -36.6243], [174.66656, -36.62431]...\n",
      "2    1010-98111-677e70ea  [[174.69396, -36.58678], [174.69396, -36.58678...\n",
      "3    1010-98112-81441893  [[174.66655, -36.6243], [174.66656, -36.62431]...\n",
      "4    1010-98113-49b95bec  [[174.68896, -36.57805], [174.68822, -36.57821...\n",
      "..                   ...                                                ...\n",
      "569   902-98013-91fd3d3c  [[174.99147, -36.78063], [174.97737, -36.78255...\n",
      "570   902-98014-6aad6783  [[174.76649, -36.84234], [174.76661, -36.84193...\n",
      "571   957-12601-6c2c5b10  [[174.71207, -36.72212], [174.71207, -36.7221]...\n",
      "572   957-12602-45320708  [[174.61089, -36.82247], [174.61094, -36.82244...\n",
      "573   957-12603-1bf4bceb  [[174.59198, -36.75751], [174.59193, -36.75752...\n",
      "\n",
      "[574 rows x 2 columns]\n"
     ]
    }
   ],
   "source": [
    "print(shape_data)"
   ]
  },
  {
   "cell_type": "code",
   "execution_count": 7,
   "metadata": {},
   "outputs": [
    {
     "name": "stdout",
     "output_type": "stream",
     "text": [
      "                  shape_id  route_id\n",
      "0      1010-98109-d221c68a   981-221\n",
      "36     1010-98110-34e6d81d   981-221\n",
      "76     1010-98111-677e70ea   981-221\n",
      "112    1010-98112-81441893   981-221\n",
      "143    1010-98113-49b95bec   981-221\n",
      "...                    ...       ...\n",
      "27311   902-98013-91fd3d3c  MTIA-209\n",
      "27316   902-98014-6aad6783  MTIA-209\n",
      "27321   957-12601-6c2c5b10   126-206\n",
      "27349   957-12602-45320708   126-206\n",
      "27374   957-12603-1bf4bceb   126-206\n",
      "\n",
      "[574 rows x 2 columns]\n"
     ]
    }
   ],
   "source": [
    "result_df = pd.merge(shape_data, trips, on='shape_id', how='inner')\n",
    "result_df = pd.merge(result_df, routes, on='route_id', how='inner')\n",
    "print(result_df[['shape_id', 'route_id']].drop_duplicates())"
   ]
  },
  {
   "cell_type": "code",
   "execution_count": 8,
   "metadata": {},
   "outputs": [],
   "source": [
    "distinct_combinations = result_df[['shape_id', 'route_id']].drop_duplicates()\n",
    "\n",
    "shape_id_counts = distinct_combinations['shape_id'].value_counts().reset_index()\n",
    "shape_id_counts.columns = ['shape_id', 'count']\n"
   ]
  },
  {
   "cell_type": "code",
   "execution_count": 9,
   "metadata": {},
   "outputs": [
    {
     "name": "stdout",
     "output_type": "stream",
     "text": [
      "                shape_id  count\n",
      "0    1010-98109-d221c68a      1\n",
      "1    1325-85604-eae716a2      1\n",
      "2    1324-08302-0568b3b5      1\n",
      "3    1324-08303-2dec14f4      1\n",
      "4    1324-08304-bfb65991      1\n",
      "..                   ...    ...\n",
      "569  1175-03503-5c425428      1\n",
      "570  1160-73902-8a1bf6ce      1\n",
      "571  1160-73901-28fd4b64      1\n",
      "572  1159-73502-42797b4e      1\n",
      "573   957-12603-1bf4bceb      1\n",
      "\n",
      "[574 rows x 2 columns]\n"
     ]
    }
   ],
   "source": [
    "print(shape_id_counts)"
   ]
  },
  {
   "cell_type": "code",
   "execution_count": 10,
   "metadata": {},
   "outputs": [
    {
     "name": "stdout",
     "output_type": "stream",
     "text": [
      "                  shape_id  route_id\n",
      "0      1010-98109-d221c68a   981-221\n",
      "36     1010-98110-34e6d81d   981-221\n",
      "76     1010-98111-677e70ea   981-221\n",
      "112    1010-98112-81441893   981-221\n",
      "143    1010-98113-49b95bec   981-221\n",
      "...                    ...       ...\n",
      "27311   902-98013-91fd3d3c  MTIA-209\n",
      "27316   902-98014-6aad6783  MTIA-209\n",
      "27321   957-12601-6c2c5b10   126-206\n",
      "27349   957-12602-45320708   126-206\n",
      "27374   957-12603-1bf4bceb   126-206\n",
      "\n",
      "[574 rows x 2 columns]\n"
     ]
    }
   ],
   "source": [
    "print(distinct_combinations)"
   ]
  },
  {
   "cell_type": "code",
   "execution_count": 11,
   "metadata": {},
   "outputs": [
    {
     "name": "stdout",
     "output_type": "stream",
     "text": [
      "                shape_id                                           location\n",
      "0    1010-98109-d221c68a  [[174.70832, -36.54528], [174.70836, -36.54519...\n",
      "1    1010-98110-34e6d81d  [[174.66655, -36.6243], [174.66656, -36.62431]...\n",
      "2    1010-98111-677e70ea  [[174.69396, -36.58678], [174.69396, -36.58678...\n",
      "3    1010-98112-81441893  [[174.66655, -36.6243], [174.66656, -36.62431]...\n",
      "4    1010-98113-49b95bec  [[174.68896, -36.57805], [174.68822, -36.57821...\n",
      "..                   ...                                                ...\n",
      "569   902-98013-91fd3d3c  [[174.99147, -36.78063], [174.97737, -36.78255...\n",
      "570   902-98014-6aad6783  [[174.76649, -36.84234], [174.76661, -36.84193...\n",
      "571   957-12601-6c2c5b10  [[174.71207, -36.72212], [174.71207, -36.7221]...\n",
      "572   957-12602-45320708  [[174.61089, -36.82247], [174.61094, -36.82244...\n",
      "573   957-12603-1bf4bceb  [[174.59198, -36.75751], [174.59193, -36.75752...\n",
      "\n",
      "[574 rows x 2 columns]\n"
     ]
    }
   ],
   "source": [
    "print(shape_data)"
   ]
  },
  {
   "cell_type": "code",
   "execution_count": 12,
   "metadata": {},
   "outputs": [
    {
     "data": {
      "text/plain": [
       "True"
      ]
     },
     "execution_count": 12,
     "metadata": {},
     "output_type": "execute_result"
    }
   ],
   "source": [
    "# They all the same \n",
    "all(routes['route_short_name'] == routes['route_long_name'])"
   ]
  },
  {
   "cell_type": "code",
   "execution_count": 13,
   "metadata": {},
   "outputs": [
    {
     "name": "stdout",
     "output_type": "stream",
     "text": [
      "                shape_id                                  route_coordinates  \\\n",
      "0    1010-98109-d221c68a  [[174.70832, -36.54528], [174.70836, -36.54519...   \n",
      "1    1010-98110-34e6d81d  [[174.66655, -36.6243], [174.66656, -36.62431]...   \n",
      "2    1010-98111-677e70ea  [[174.69396, -36.58678], [174.69396, -36.58678...   \n",
      "3    1010-98112-81441893  [[174.66655, -36.6243], [174.66656, -36.62431]...   \n",
      "4    1010-98113-49b95bec  [[174.68896, -36.57805], [174.68822, -36.57821...   \n",
      "..                   ...                                                ...   \n",
      "569   902-98013-91fd3d3c  [[174.99147, -36.78063], [174.97737, -36.78255...   \n",
      "570   902-98014-6aad6783  [[174.76649, -36.84234], [174.76661, -36.84193...   \n",
      "571   957-12601-6c2c5b10  [[174.71207, -36.72212], [174.71207, -36.7221]...   \n",
      "572   957-12602-45320708  [[174.61089, -36.82247], [174.61094, -36.82244...   \n",
      "573   957-12603-1bf4bceb  [[174.59198, -36.75751], [174.59193, -36.75752...   \n",
      "\n",
      "     route_id route_name  \n",
      "0     981-221        981  \n",
      "1     981-221        981  \n",
      "2     981-221        981  \n",
      "3     981-221        981  \n",
      "4     981-221        981  \n",
      "..        ...        ...  \n",
      "569  MTIA-209       MTIA  \n",
      "570  MTIA-209       MTIA  \n",
      "571   126-206        126  \n",
      "572   126-206        126  \n",
      "573   126-206        126  \n",
      "\n",
      "[574 rows x 4 columns]\n"
     ]
    }
   ],
   "source": [
    "route_table = pd.merge(shape_data, distinct_combinations, on='shape_id', how='inner')\n",
    "route_table = pd.merge(route_table, routes[[\"route_id\", \"route_short_name\"]], on='route_id', how='inner')\n",
    "route_table.columns = ['shape_id', 'route_coordinates', 'route_id', 'route_name']\n",
    "print(route_table)"
   ]
  },
  {
   "cell_type": "code",
   "execution_count": 15,
   "metadata": {},
   "outputs": [
    {
     "name": "stdout",
     "output_type": "stream",
     "text": [
      "                shape_id                                  route_coordinates  \\\n",
      "166  1153-07005-b2752937  [[174.91196, -36.93226], [174.91201, -36.93223...   \n",
      "167  1153-07006-016a1eb5  [[174.76994, -36.84542], [174.76994, -36.84542...   \n",
      "168  1153-07007-71aa8014  [[174.80893, -36.89781], [174.80895, -36.89777...   \n",
      "169  1153-07008-10bc3492  [[174.85009, -36.89845], [174.85007, -36.8985]...   \n",
      "170  1153-07009-3fd13d4d  [[174.84915, -36.89832], [174.84915, -36.89832...   \n",
      "\n",
      "    route_id route_name  \n",
      "166   70-205         70  \n",
      "167   70-205         70  \n",
      "168   70-205         70  \n",
      "169   70-205         70  \n",
      "170   70-205         70  \n"
     ]
    }
   ],
   "source": [
    "subset_df = route_table[route_table['route_name'] == '70']\n",
    "print(subset_df)"
   ]
  },
  {
   "cell_type": "code",
   "execution_count": 95,
   "metadata": {},
   "outputs": [
    {
     "name": "stderr",
     "output_type": "stream",
     "text": [
      "Exception ignored in: <function _collection_gced at 0x28fffd1f0>\n",
      "Traceback (most recent call last):\n",
      "  File \"/Users/leonardophu/miniconda3/envs/lab/lib/python3.9/site-packages/sqlalchemy/event/registry.py\", line 103, in _collection_gced\n",
      "    def _collection_gced(ref: weakref.ref[Any]) -> None:\n",
      "KeyboardInterrupt: \n"
     ]
    },
    {
     "data": {
      "text/plain": [
       "574"
      ]
     },
     "execution_count": 95,
     "metadata": {},
     "output_type": "execute_result"
    }
   ],
   "source": [
    "import pandas as pd\n",
    "from sqlalchemy import create_engine, Float, Integer, String, ARRAY\n",
    "\n",
    "# Ensure route_coordinates is of type list\n",
    "route_table['route_coordinates'] = route_table['route_coordinates'].apply(lambda x: x if isinstance(x, list) else [])\n",
    "\n",
    "# Replace these with your PostgreSQL connection details\n",
    "db_username = \"postgres\"\n",
    "db_password = \"postgres\"\n",
    "db_host = \"localhost\"\n",
    "db_port = \"5432\"\n",
    "db_name = \"bus_trial\"\n",
    "\n",
    "# Create a database connection string\n",
    "db_uri = f\"postgresql://{db_username}:{db_password}@{db_host}:{db_port}/{db_name}\"\n",
    "\n",
    "# Create a SQLAlchemy engine\n",
    "engine = create_engine(db_uri)\n",
    "\n",
    "# Define the column data types\n",
    "column_types = {\n",
    "    'shape_id': String,\n",
    "    'route_coordinates': ARRAY(Float),\n",
    "    'route_id': String,\n",
    "    'route_name': String\n",
    "}\n",
    "\n",
    "# Store the dataframe in the PostgreSQL database\n",
    "route_table.to_sql('route_table', engine, if_exists='replace', dtype=column_types)\n"
   ]
  },
  {
   "cell_type": "code",
   "execution_count": 10,
   "metadata": {},
   "outputs": [
    {
     "data": {
      "text/plain": [
       "843"
      ]
     },
     "execution_count": 10,
     "metadata": {},
     "output_type": "execute_result"
    }
   ],
   "source": [
    "import pandas as pd\n",
    "from sqlalchemy import create_engine, Float, Integer, String, ARRAY\n",
    "\n",
    "# Replace these with your PostgreSQL connection details\n",
    "db_username = \"postgres\"\n",
    "db_password = \"postgres\"\n",
    "db_host = \"localhost\"\n",
    "db_port = \"5432\"\n",
    "db_name = \"bus_trial\"\n",
    "\n",
    "# Create a database connection string\n",
    "db_uri = f\"postgresql://{db_username}:{db_password}@{db_host}:{db_port}/{db_name}\"\n",
    "\n",
    "# Create a SQLAlchemy engine\n",
    "engine = create_engine(db_uri)\n",
    "\n",
    "# Define the column data types\n",
    "column_types = {\n",
    "    'shape_id': String,\n",
    "    'shape_pt_lat': Float,\n",
    "    'shape_pt_lon': Float,\n",
    "    'shape_pt_sequence': Integer\n",
    "}\n",
    "\n",
    "shapes_extract = shapes.iloc[:, [0,1,2,3]]\n",
    "\n",
    "shapes_extract.to_sql('shapes', engine, if_exists='replace', dtype=column_types)\n"
   ]
  }
 ],
 "metadata": {
  "kernelspec": {
   "display_name": "lab",
   "language": "python",
   "name": "python3"
  },
  "language_info": {
   "codemirror_mode": {
    "name": "ipython",
    "version": 3
   },
   "file_extension": ".py",
   "mimetype": "text/x-python",
   "name": "python",
   "nbconvert_exporter": "python",
   "pygments_lexer": "ipython3",
   "version": "3.9.16"
  },
  "orig_nbformat": 4
 },
 "nbformat": 4,
 "nbformat_minor": 2
}
