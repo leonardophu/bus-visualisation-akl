{
 "cells": [
  {
   "cell_type": "code",
   "execution_count": 1,
   "metadata": {},
   "outputs": [],
   "source": [
    "# import libraries \n",
    "import pandas as pd\n",
    "from sqlalchemy import create_engine\n",
    "import psycopg2"
   ]
  },
  {
   "cell_type": "code",
   "execution_count": 5,
   "metadata": {},
   "outputs": [],
   "source": [
    "shapes = pd.read_csv(\"../businfo/shapes.txt\")\n",
    "stops = pd.read_csv(\"../businfo/stops.txt\")"
   ]
  },
  {
   "cell_type": "code",
   "execution_count": 7,
   "metadata": {},
   "outputs": [],
   "source": [
    "trips = pd.read_csv('../businfo/trips.txt')"
   ]
  },
  {
   "cell_type": "code",
   "execution_count": 9,
   "metadata": {},
   "outputs": [],
   "source": [
    "routes = pd.read_csv('../businfo/routes.txt')"
   ]
  },
  {
   "cell_type": "code",
   "execution_count": 11,
   "metadata": {},
   "outputs": [],
   "source": [
    "stop_times = pd.read_csv('../businfo/stop_times.txt')"
   ]
  },
  {
   "cell_type": "code",
   "execution_count": 12,
   "metadata": {},
   "outputs": [
    {
     "name": "stdout",
     "output_type": "stream",
     "text": [
      "                                    trip_id arrival_time departure_time  \\\n",
      "0               1286-79922-51600-2-a7688ca4     14:20:00       14:20:00   \n",
      "1               1286-79922-51600-2-a7688ca4     14:25:45       14:25:45   \n",
      "2               1286-79922-51600-2-a7688ca4     14:31:59       14:32:00   \n",
      "3               1286-79922-51600-2-a7688ca4     14:34:15       14:34:15   \n",
      "4               1286-79922-51600-2-a7688ca4     14:35:30       14:35:30   \n",
      "...                                     ...          ...            ...   \n",
      "828598  249-820232-52920-2-2217321-ccc91c9b     15:19:00       15:19:00   \n",
      "828599  249-820232-52920-2-2217321-ccc91c9b     15:22:00       15:22:00   \n",
      "828600  249-820232-52920-2-2217321-ccc91c9b     15:24:00       15:24:00   \n",
      "828601  249-820232-52920-2-2217321-ccc91c9b     15:27:00       15:27:00   \n",
      "828602  249-820232-52920-2-2217321-ccc91c9b     15:31:00       15:31:00   \n",
      "\n",
      "              stop_id  stop_sequence stop_headsign  pickup_type  \\\n",
      "0       7107-14d27628              1     BRITOMART            0   \n",
      "1       7142-fda95eea              2     BRITOMART            0   \n",
      "2       7018-d16cf618              3     NEWMARKET            0   \n",
      "3       7182-0fbc607f              4     NEWMARKET            0   \n",
      "4       7184-c6244f90              5     NEWMARKET            0   \n",
      "...               ...            ...           ...          ...   \n",
      "828598  9221-1f071411             11      Papakura            0   \n",
      "828599  9223-b34cb60a             12      Papakura            0   \n",
      "828600  9225-e65a3335             13      Papakura            0   \n",
      "828601  9227-c9ab5758             14      Papakura            0   \n",
      "828602  9230-b7b695a0             15      Papakura            1   \n",
      "\n",
      "        drop_off_type  shape_dist_traveled  timepoint  \n",
      "0                   0                0.000          0  \n",
      "1                   0                0.726          0  \n",
      "2                   0                1.536          1  \n",
      "3                   0                2.158          0  \n",
      "4                   0                2.504          0  \n",
      "...               ...                  ...        ...  \n",
      "828598              0               26.426          0  \n",
      "828599              0               28.614          0  \n",
      "828600              0               29.859          0  \n",
      "828601              0               31.482          0  \n",
      "828602              0               35.010          0  \n",
      "\n",
      "[828603 rows x 10 columns]\n"
     ]
    }
   ],
   "source": [
    "print(stop_times)"
   ]
  },
  {
   "cell_type": "code",
   "execution_count": 14,
   "metadata": {},
   "outputs": [
    {
     "name": "stdout",
     "output_type": "stream",
     "text": [
      "Index(['route_id', 'service_id', 'trip_id', 'trip_headsign', 'trip_short_name',\n",
      "       'direction_id', 'block_id', 'shape_id', 'wheelchair_accessible',\n",
      "       'bikes_allowed'],\n",
      "      dtype='object')\n"
     ]
    }
   ],
   "source": [
    "print(trips.columns)"
   ]
  },
  {
   "cell_type": "code",
   "execution_count": 15,
   "metadata": {},
   "outputs": [
    {
     "name": "stdout",
     "output_type": "stream",
     "text": [
      "             stop_id  stop_code                        stop_name  stop_desc  \\\n",
      "0       100-56c57897        100         Papatoetoe Train Station        NaN   \n",
      "1      1002-adf82201       1002              Stop A Lower Albert        NaN   \n",
      "2      1003-ea94d2b2       1003              Stop B Lower Albert        NaN   \n",
      "3     10036-288916d9      10036                        Ellerslie        NaN   \n",
      "4      1004-42737000       1004              Stop C Lower Albert        NaN   \n",
      "...              ...        ...                              ...        ...   \n",
      "6681   9925-fa8611dc       9925  Sam Wrigley Street/ Cook Street        NaN   \n",
      "6682   9974-6b1dd4cc       9974                    Madison Place        NaN   \n",
      "6683   9975-9f7b8faa       9975                   Linwood Avenue        NaN   \n",
      "6684   9976-69afaf1c       9976                  Linwood  Avenue        NaN   \n",
      "6685   9986-e705dd1d       9986                    Matakana Road        NaN   \n",
      "\n",
      "      stop_lat   stop_lon  zone_id  stop_url  location_type  parent_station  \\\n",
      "0    -36.97766  174.84925      NaN       NaN              1             NaN   \n",
      "1    -36.84326  174.76575      NaN       NaN              0  31986-b1e95b83   \n",
      "2    -36.84381  174.76551      NaN       NaN              0  31986-b1e95b83   \n",
      "3    -36.89726  174.80712      NaN       NaN              1             NaN   \n",
      "4    -36.84403  174.76550      NaN       NaN              0  31986-b1e95b83   \n",
      "...        ...        ...      ...       ...            ...             ...   \n",
      "6681 -36.85073  174.75679      NaN       NaN              0             NaN   \n",
      "6682 -36.75943  174.74654      NaN       NaN              0             NaN   \n",
      "6683 -36.75716  174.74401      NaN       NaN              0             NaN   \n",
      "6684 -36.75667  174.74761      NaN       NaN              0             NaN   \n",
      "6685 -36.39619  174.66156      NaN       NaN              0             NaN   \n",
      "\n",
      "      stop_timezone platform_code  wheelchair_boarding  start_date  end_date  \n",
      "0               NaN           NaN                    0    20230223  20230411  \n",
      "1               NaN             A                    0    20230223  20230411  \n",
      "2               NaN             B                    0    20230223  20230411  \n",
      "3               NaN           NaN                    0    20230223  20230411  \n",
      "4               NaN             C                    0    20230223  20230411  \n",
      "...             ...           ...                  ...         ...       ...  \n",
      "6681            NaN           NaN                    0    20230223  20230411  \n",
      "6682            NaN           NaN                    0    20230223  20230411  \n",
      "6683            NaN           NaN                    0    20230223  20230411  \n",
      "6684            NaN           NaN                    0    20230223  20230411  \n",
      "6685            NaN           NaN                    0    20230223  20230411  \n",
      "\n",
      "[6686 rows x 15 columns]\n"
     ]
    }
   ],
   "source": [
    "print(stops)\n"
   ]
  },
  {
   "cell_type": "markdown",
   "metadata": {},
   "source": [
    "# EXTRACTING STOP TABLE FOR SQL TABLE"
   ]
  },
  {
   "cell_type": "code",
   "execution_count": 23,
   "metadata": {},
   "outputs": [
    {
     "name": "stdout",
     "output_type": "stream",
     "text": [
      "             stop_id        stop_coordinates\n",
      "0       100-56c57897  [174.84925, -36.97766]\n",
      "1      1002-adf82201  [174.76575, -36.84326]\n",
      "2      1003-ea94d2b2  [174.76551, -36.84381]\n",
      "3     10036-288916d9  [174.80712, -36.89726]\n",
      "4      1004-42737000   [174.7655, -36.84403]\n",
      "...              ...                     ...\n",
      "6681   9925-fa8611dc  [174.75679, -36.85073]\n",
      "6682   9974-6b1dd4cc  [174.74654, -36.75943]\n",
      "6683   9975-9f7b8faa  [174.74401, -36.75716]\n",
      "6684   9976-69afaf1c  [174.74761, -36.75667]\n",
      "6685   9986-e705dd1d  [174.66156, -36.39619]\n",
      "\n",
      "[6686 rows x 2 columns]\n"
     ]
    }
   ],
   "source": [
    "stop_table = stops\n",
    "stop_table['stop_coordinates'] = stop_table.apply(lambda row : [row['stop_lon'], row['stop_lat']], axis = 1)\n",
    "stop_table = stop_table[['stop_id', 'stop_coordinates']]\n",
    "print(stop_table)"
   ]
  },
  {
   "cell_type": "code",
   "execution_count": 25,
   "metadata": {},
   "outputs": [
    {
     "data": {
      "text/plain": [
       "686"
      ]
     },
     "execution_count": 25,
     "metadata": {},
     "output_type": "execute_result"
    }
   ],
   "source": [
    "from sqlalchemy import create_engine, Float, Integer, String, ARRAY\n",
    "\n",
    "# Replace these with your PostgreSQL connection details\n",
    "db_username = \"postgres\"\n",
    "db_password = \"postgres\"\n",
    "db_host = \"localhost\"\n",
    "db_port = \"5432\"\n",
    "db_name = \"bus_trial\"\n",
    "\n",
    "# Create a database connection string\n",
    "db_uri = f\"postgresql://{db_username}:{db_password}@{db_host}:{db_port}/{db_name}\"\n",
    "\n",
    "# Create a SQLAlchemy engine\n",
    "engine = create_engine(db_uri)\n",
    "\n",
    "# Define the column data types\n",
    "column_types = {\n",
    "    'stop_id': String,\n",
    "    'stop_coordinates': ARRAY(Float)\n",
    "}\n",
    "\n",
    "# Store the dataframe in the PostgreSQL database\n",
    "stop_table.to_sql('stop_table', engine, if_exists='replace', dtype=column_types, index = False)\n"
   ]
  },
  {
   "cell_type": "markdown",
   "metadata": {},
   "source": [
    "# EXTRACTING SHAPE STOPS (BUS NUMBER, SHAPE_ID, STOP_ID)"
   ]
  },
  {
   "cell_type": "markdown",
   "metadata": {},
   "source": [
    "## Collecting the dataframe "
   ]
  },
  {
   "cell_type": "code",
   "execution_count": 30,
   "metadata": {},
   "outputs": [
    {
     "ename": "ValueError",
     "evalue": "You are trying to merge on object and int64 columns. If you wish to proceed you should use pd.concat",
     "output_type": "error",
     "traceback": [
      "\u001b[0;31m---------------------------------------------------------------------------\u001b[0m",
      "\u001b[0;31mValueError\u001b[0m                                Traceback (most recent call last)",
      "Cell \u001b[0;32mIn[30], line 1\u001b[0m\n\u001b[0;32m----> 1\u001b[0m trips\u001b[39m.\u001b[39;49mjoin(stop_times, on \u001b[39m=\u001b[39;49m \u001b[39m'\u001b[39;49m\u001b[39mtrip_id\u001b[39;49m\u001b[39m'\u001b[39;49m)\n",
      "File \u001b[0;32m~/miniconda3/envs/lab/lib/python3.9/site-packages/pandas/core/frame.py:9979\u001b[0m, in \u001b[0;36mDataFrame.join\u001b[0;34m(self, other, on, how, lsuffix, rsuffix, sort, validate)\u001b[0m\n\u001b[1;32m   9816\u001b[0m \u001b[39mdef\u001b[39;00m \u001b[39mjoin\u001b[39m(\n\u001b[1;32m   9817\u001b[0m     \u001b[39mself\u001b[39m,\n\u001b[1;32m   9818\u001b[0m     other: DataFrame \u001b[39m|\u001b[39m Series \u001b[39m|\u001b[39m \u001b[39mlist\u001b[39m[DataFrame \u001b[39m|\u001b[39m Series],\n\u001b[0;32m   (...)\u001b[0m\n\u001b[1;32m   9824\u001b[0m     validate: \u001b[39mstr\u001b[39m \u001b[39m|\u001b[39m \u001b[39mNone\u001b[39;00m \u001b[39m=\u001b[39m \u001b[39mNone\u001b[39;00m,\n\u001b[1;32m   9825\u001b[0m ) \u001b[39m-\u001b[39m\u001b[39m>\u001b[39m DataFrame:\n\u001b[1;32m   9826\u001b[0m \u001b[39m    \u001b[39m\u001b[39m\"\"\"\u001b[39;00m\n\u001b[1;32m   9827\u001b[0m \u001b[39m    Join columns of another DataFrame.\u001b[39;00m\n\u001b[1;32m   9828\u001b[0m \n\u001b[0;32m   (...)\u001b[0m\n\u001b[1;32m   9977\u001b[0m \u001b[39m    5  K1  A5   B1\u001b[39;00m\n\u001b[1;32m   9978\u001b[0m \u001b[39m    \"\"\"\u001b[39;00m\n\u001b[0;32m-> 9979\u001b[0m     \u001b[39mreturn\u001b[39;00m \u001b[39mself\u001b[39;49m\u001b[39m.\u001b[39;49m_join_compat(\n\u001b[1;32m   9980\u001b[0m         other,\n\u001b[1;32m   9981\u001b[0m         on\u001b[39m=\u001b[39;49mon,\n\u001b[1;32m   9982\u001b[0m         how\u001b[39m=\u001b[39;49mhow,\n\u001b[1;32m   9983\u001b[0m         lsuffix\u001b[39m=\u001b[39;49mlsuffix,\n\u001b[1;32m   9984\u001b[0m         rsuffix\u001b[39m=\u001b[39;49mrsuffix,\n\u001b[1;32m   9985\u001b[0m         sort\u001b[39m=\u001b[39;49msort,\n\u001b[1;32m   9986\u001b[0m         validate\u001b[39m=\u001b[39;49mvalidate,\n\u001b[1;32m   9987\u001b[0m     )\n",
      "File \u001b[0;32m~/miniconda3/envs/lab/lib/python3.9/site-packages/pandas/core/frame.py:10018\u001b[0m, in \u001b[0;36mDataFrame._join_compat\u001b[0;34m(self, other, on, how, lsuffix, rsuffix, sort, validate)\u001b[0m\n\u001b[1;32m  10008\u001b[0m     \u001b[39mif\u001b[39;00m how \u001b[39m==\u001b[39m \u001b[39m\"\u001b[39m\u001b[39mcross\u001b[39m\u001b[39m\"\u001b[39m:\n\u001b[1;32m  10009\u001b[0m         \u001b[39mreturn\u001b[39;00m merge(\n\u001b[1;32m  10010\u001b[0m             \u001b[39mself\u001b[39m,\n\u001b[1;32m  10011\u001b[0m             other,\n\u001b[0;32m   (...)\u001b[0m\n\u001b[1;32m  10016\u001b[0m             validate\u001b[39m=\u001b[39mvalidate,\n\u001b[1;32m  10017\u001b[0m         )\n\u001b[0;32m> 10018\u001b[0m     \u001b[39mreturn\u001b[39;00m merge(\n\u001b[1;32m  10019\u001b[0m         \u001b[39mself\u001b[39;49m,\n\u001b[1;32m  10020\u001b[0m         other,\n\u001b[1;32m  10021\u001b[0m         left_on\u001b[39m=\u001b[39;49mon,\n\u001b[1;32m  10022\u001b[0m         how\u001b[39m=\u001b[39;49mhow,\n\u001b[1;32m  10023\u001b[0m         left_index\u001b[39m=\u001b[39;49mon \u001b[39mis\u001b[39;49;00m \u001b[39mNone\u001b[39;49;00m,\n\u001b[1;32m  10024\u001b[0m         right_index\u001b[39m=\u001b[39;49m\u001b[39mTrue\u001b[39;49;00m,\n\u001b[1;32m  10025\u001b[0m         suffixes\u001b[39m=\u001b[39;49m(lsuffix, rsuffix),\n\u001b[1;32m  10026\u001b[0m         sort\u001b[39m=\u001b[39;49msort,\n\u001b[1;32m  10027\u001b[0m         validate\u001b[39m=\u001b[39;49mvalidate,\n\u001b[1;32m  10028\u001b[0m     )\n\u001b[1;32m  10029\u001b[0m \u001b[39melse\u001b[39;00m:\n\u001b[1;32m  10030\u001b[0m     \u001b[39mif\u001b[39;00m on \u001b[39mis\u001b[39;00m \u001b[39mnot\u001b[39;00m \u001b[39mNone\u001b[39;00m:\n",
      "File \u001b[0;32m~/miniconda3/envs/lab/lib/python3.9/site-packages/pandas/core/reshape/merge.py:110\u001b[0m, in \u001b[0;36mmerge\u001b[0;34m(left, right, how, on, left_on, right_on, left_index, right_index, sort, suffixes, copy, indicator, validate)\u001b[0m\n\u001b[1;32m     93\u001b[0m \u001b[39m@Substitution\u001b[39m(\u001b[39m\"\u001b[39m\u001b[39m\\n\u001b[39;00m\u001b[39mleft : DataFrame or named Series\u001b[39m\u001b[39m\"\u001b[39m)\n\u001b[1;32m     94\u001b[0m \u001b[39m@Appender\u001b[39m(_merge_doc, indents\u001b[39m=\u001b[39m\u001b[39m0\u001b[39m)\n\u001b[1;32m     95\u001b[0m \u001b[39mdef\u001b[39;00m \u001b[39mmerge\u001b[39m(\n\u001b[0;32m   (...)\u001b[0m\n\u001b[1;32m    108\u001b[0m     validate: \u001b[39mstr\u001b[39m \u001b[39m|\u001b[39m \u001b[39mNone\u001b[39;00m \u001b[39m=\u001b[39m \u001b[39mNone\u001b[39;00m,\n\u001b[1;32m    109\u001b[0m ) \u001b[39m-\u001b[39m\u001b[39m>\u001b[39m DataFrame:\n\u001b[0;32m--> 110\u001b[0m     op \u001b[39m=\u001b[39m _MergeOperation(\n\u001b[1;32m    111\u001b[0m         left,\n\u001b[1;32m    112\u001b[0m         right,\n\u001b[1;32m    113\u001b[0m         how\u001b[39m=\u001b[39;49mhow,\n\u001b[1;32m    114\u001b[0m         on\u001b[39m=\u001b[39;49mon,\n\u001b[1;32m    115\u001b[0m         left_on\u001b[39m=\u001b[39;49mleft_on,\n\u001b[1;32m    116\u001b[0m         right_on\u001b[39m=\u001b[39;49mright_on,\n\u001b[1;32m    117\u001b[0m         left_index\u001b[39m=\u001b[39;49mleft_index,\n\u001b[1;32m    118\u001b[0m         right_index\u001b[39m=\u001b[39;49mright_index,\n\u001b[1;32m    119\u001b[0m         sort\u001b[39m=\u001b[39;49msort,\n\u001b[1;32m    120\u001b[0m         suffixes\u001b[39m=\u001b[39;49msuffixes,\n\u001b[1;32m    121\u001b[0m         indicator\u001b[39m=\u001b[39;49mindicator,\n\u001b[1;32m    122\u001b[0m         validate\u001b[39m=\u001b[39;49mvalidate,\n\u001b[1;32m    123\u001b[0m     )\n\u001b[1;32m    124\u001b[0m     \u001b[39mreturn\u001b[39;00m op\u001b[39m.\u001b[39mget_result(copy\u001b[39m=\u001b[39mcopy)\n",
      "File \u001b[0;32m~/miniconda3/envs/lab/lib/python3.9/site-packages/pandas/core/reshape/merge.py:707\u001b[0m, in \u001b[0;36m_MergeOperation.__init__\u001b[0;34m(self, left, right, how, on, left_on, right_on, axis, left_index, right_index, sort, suffixes, indicator, validate)\u001b[0m\n\u001b[1;32m    699\u001b[0m (\n\u001b[1;32m    700\u001b[0m     \u001b[39mself\u001b[39m\u001b[39m.\u001b[39mleft_join_keys,\n\u001b[1;32m    701\u001b[0m     \u001b[39mself\u001b[39m\u001b[39m.\u001b[39mright_join_keys,\n\u001b[1;32m    702\u001b[0m     \u001b[39mself\u001b[39m\u001b[39m.\u001b[39mjoin_names,\n\u001b[1;32m    703\u001b[0m ) \u001b[39m=\u001b[39m \u001b[39mself\u001b[39m\u001b[39m.\u001b[39m_get_merge_keys()\n\u001b[1;32m    705\u001b[0m \u001b[39m# validate the merge keys dtypes. We may need to coerce\u001b[39;00m\n\u001b[1;32m    706\u001b[0m \u001b[39m# to avoid incompatible dtypes\u001b[39;00m\n\u001b[0;32m--> 707\u001b[0m \u001b[39mself\u001b[39;49m\u001b[39m.\u001b[39;49m_maybe_coerce_merge_keys()\n\u001b[1;32m    709\u001b[0m \u001b[39m# If argument passed to validate,\u001b[39;00m\n\u001b[1;32m    710\u001b[0m \u001b[39m# check if columns specified as unique\u001b[39;00m\n\u001b[1;32m    711\u001b[0m \u001b[39m# are in fact unique.\u001b[39;00m\n\u001b[1;32m    712\u001b[0m \u001b[39mif\u001b[39;00m validate \u001b[39mis\u001b[39;00m \u001b[39mnot\u001b[39;00m \u001b[39mNone\u001b[39;00m:\n",
      "File \u001b[0;32m~/miniconda3/envs/lab/lib/python3.9/site-packages/pandas/core/reshape/merge.py:1340\u001b[0m, in \u001b[0;36m_MergeOperation._maybe_coerce_merge_keys\u001b[0;34m(self)\u001b[0m\n\u001b[1;32m   1334\u001b[0m     \u001b[39m# unless we are merging non-string-like with string-like\u001b[39;00m\n\u001b[1;32m   1335\u001b[0m     \u001b[39melif\u001b[39;00m (\n\u001b[1;32m   1336\u001b[0m         inferred_left \u001b[39min\u001b[39;00m string_types \u001b[39mand\u001b[39;00m inferred_right \u001b[39mnot\u001b[39;00m \u001b[39min\u001b[39;00m string_types\n\u001b[1;32m   1337\u001b[0m     ) \u001b[39mor\u001b[39;00m (\n\u001b[1;32m   1338\u001b[0m         inferred_right \u001b[39min\u001b[39;00m string_types \u001b[39mand\u001b[39;00m inferred_left \u001b[39mnot\u001b[39;00m \u001b[39min\u001b[39;00m string_types\n\u001b[1;32m   1339\u001b[0m     ):\n\u001b[0;32m-> 1340\u001b[0m         \u001b[39mraise\u001b[39;00m \u001b[39mValueError\u001b[39;00m(msg)\n\u001b[1;32m   1342\u001b[0m \u001b[39m# datetimelikes must match exactly\u001b[39;00m\n\u001b[1;32m   1343\u001b[0m \u001b[39melif\u001b[39;00m needs_i8_conversion(lk\u001b[39m.\u001b[39mdtype) \u001b[39mand\u001b[39;00m \u001b[39mnot\u001b[39;00m needs_i8_conversion(rk\u001b[39m.\u001b[39mdtype):\n",
      "\u001b[0;31mValueError\u001b[0m: You are trying to merge on object and int64 columns. If you wish to proceed you should use pd.concat"
     ]
    }
   ],
   "source": [
    "trips.join(stop_times, on = 'trip_id')"
   ]
  },
  {
   "cell_type": "code",
   "execution_count": 47,
   "metadata": {},
   "outputs": [],
   "source": [
    "stop_trip_data = pd.merge(trips, stop_times, how = \"left\", on = 'trip_id')\n",
    "stop_trip_data = pd.merge(stop_trip_data, routes, how = 'left', on = 'route_id')\n",
    "\n",
    "stop_data = stop_trip_data[['route_short_name', 'trip_id', 'shape_id', 'stop_id']]\n",
    "stop_data.columns = ['route_name', 'trip_id', 'shape_id', 'stop_id']\n",
    "\n",
    "distinct_data = stop_data[['route_name', 'shape_id', 'stop_id']].drop_duplicates()"
   ]
  },
  {
   "cell_type": "code",
   "execution_count": 46,
   "metadata": {},
   "outputs": [
    {
     "data": {
      "text/html": [
       "<div>\n",
       "<style scoped>\n",
       "    .dataframe tbody tr th:only-of-type {\n",
       "        vertical-align: middle;\n",
       "    }\n",
       "\n",
       "    .dataframe tbody tr th {\n",
       "        vertical-align: top;\n",
       "    }\n",
       "\n",
       "    .dataframe thead th {\n",
       "        text-align: right;\n",
       "    }\n",
       "</style>\n",
       "<table border=\"1\" class=\"dataframe\">\n",
       "  <thead>\n",
       "    <tr style=\"text-align: right;\">\n",
       "      <th></th>\n",
       "      <th>route_name</th>\n",
       "      <th>trip_id</th>\n",
       "      <th>shape_id</th>\n",
       "      <th>stop_id</th>\n",
       "    </tr>\n",
       "  </thead>\n",
       "  <tbody>\n",
       "    <tr>\n",
       "      <th>0</th>\n",
       "      <td>981</td>\n",
       "      <td>1010-98109-18000-2-fc6666b6</td>\n",
       "      <td>1010-98109-d221c68a</td>\n",
       "      <td>4791-27dc4f30</td>\n",
       "    </tr>\n",
       "    <tr>\n",
       "      <th>1</th>\n",
       "      <td>981</td>\n",
       "      <td>1010-98109-18000-2-fc6666b6</td>\n",
       "      <td>1010-98109-d221c68a</td>\n",
       "      <td>4778-c7bea67d</td>\n",
       "    </tr>\n",
       "    <tr>\n",
       "      <th>2</th>\n",
       "      <td>981</td>\n",
       "      <td>1010-98109-18000-2-fc6666b6</td>\n",
       "      <td>1010-98109-d221c68a</td>\n",
       "      <td>4782-73517bf7</td>\n",
       "    </tr>\n",
       "    <tr>\n",
       "      <th>3</th>\n",
       "      <td>981</td>\n",
       "      <td>1010-98109-18000-2-fc6666b6</td>\n",
       "      <td>1010-98109-d221c68a</td>\n",
       "      <td>4797-11232403</td>\n",
       "    </tr>\n",
       "    <tr>\n",
       "      <th>4</th>\n",
       "      <td>981</td>\n",
       "      <td>1010-98109-18000-2-fc6666b6</td>\n",
       "      <td>1010-98109-d221c68a</td>\n",
       "      <td>4799-3aa1c6f6</td>\n",
       "    </tr>\n",
       "    <tr>\n",
       "      <th>...</th>\n",
       "      <td>...</td>\n",
       "      <td>...</td>\n",
       "      <td>...</td>\n",
       "      <td>...</td>\n",
       "    </tr>\n",
       "    <tr>\n",
       "      <th>828598</th>\n",
       "      <td>126</td>\n",
       "      <td>957-12602-32400-2-ea1af35a</td>\n",
       "      <td>957-12602-45320708</td>\n",
       "      <td>3588-6006c6e9</td>\n",
       "    </tr>\n",
       "    <tr>\n",
       "      <th>828599</th>\n",
       "      <td>126</td>\n",
       "      <td>957-12602-32400-2-ea1af35a</td>\n",
       "      <td>957-12602-45320708</td>\n",
       "      <td>4315-eb4f0338</td>\n",
       "    </tr>\n",
       "    <tr>\n",
       "      <th>828600</th>\n",
       "      <td>126</td>\n",
       "      <td>957-12602-32400-2-ea1af35a</td>\n",
       "      <td>957-12602-45320708</td>\n",
       "      <td>4259-6945389a</td>\n",
       "    </tr>\n",
       "    <tr>\n",
       "      <th>828601</th>\n",
       "      <td>126</td>\n",
       "      <td>957-12602-32400-2-ea1af35a</td>\n",
       "      <td>957-12602-45320708</td>\n",
       "      <td>3744-2d944a90</td>\n",
       "    </tr>\n",
       "    <tr>\n",
       "      <th>828602</th>\n",
       "      <td>126</td>\n",
       "      <td>957-12602-32400-2-ea1af35a</td>\n",
       "      <td>957-12602-45320708</td>\n",
       "      <td>4227-0e16a7e9</td>\n",
       "    </tr>\n",
       "  </tbody>\n",
       "</table>\n",
       "<p>828603 rows × 4 columns</p>\n",
       "</div>"
      ],
      "text/plain": [
       "       route_name                      trip_id             shape_id  \\\n",
       "0             981  1010-98109-18000-2-fc6666b6  1010-98109-d221c68a   \n",
       "1             981  1010-98109-18000-2-fc6666b6  1010-98109-d221c68a   \n",
       "2             981  1010-98109-18000-2-fc6666b6  1010-98109-d221c68a   \n",
       "3             981  1010-98109-18000-2-fc6666b6  1010-98109-d221c68a   \n",
       "4             981  1010-98109-18000-2-fc6666b6  1010-98109-d221c68a   \n",
       "...           ...                          ...                  ...   \n",
       "828598        126   957-12602-32400-2-ea1af35a   957-12602-45320708   \n",
       "828599        126   957-12602-32400-2-ea1af35a   957-12602-45320708   \n",
       "828600        126   957-12602-32400-2-ea1af35a   957-12602-45320708   \n",
       "828601        126   957-12602-32400-2-ea1af35a   957-12602-45320708   \n",
       "828602        126   957-12602-32400-2-ea1af35a   957-12602-45320708   \n",
       "\n",
       "              stop_id  \n",
       "0       4791-27dc4f30  \n",
       "1       4778-c7bea67d  \n",
       "2       4782-73517bf7  \n",
       "3       4797-11232403  \n",
       "4       4799-3aa1c6f6  \n",
       "...               ...  \n",
       "828598  3588-6006c6e9  \n",
       "828599  4315-eb4f0338  \n",
       "828600  4259-6945389a  \n",
       "828601  3744-2d944a90  \n",
       "828602  4227-0e16a7e9  \n",
       "\n",
       "[828603 rows x 4 columns]"
      ]
     },
     "execution_count": 46,
     "metadata": {},
     "output_type": "execute_result"
    }
   ],
   "source": [
    "stop_data"
   ]
  },
  {
   "cell_type": "markdown",
   "metadata": {},
   "source": [
    "## Insert into database"
   ]
  },
  {
   "cell_type": "code",
   "execution_count": 48,
   "metadata": {},
   "outputs": [
    {
     "data": {
      "text/plain": [
       "210"
      ]
     },
     "execution_count": 48,
     "metadata": {},
     "output_type": "execute_result"
    }
   ],
   "source": [
    "from sqlalchemy import create_engine, Float, Integer, String, ARRAY\n",
    "\n",
    "# Replace these with your PostgreSQL connection details\n",
    "db_username = \"postgres\"\n",
    "db_password = \"postgres\"\n",
    "db_host = \"localhost\"\n",
    "db_port = \"5432\"\n",
    "db_name = \"bus_trial\"\n",
    "\n",
    "# Create a database connection string\n",
    "db_uri = f\"postgresql://{db_username}:{db_password}@{db_host}:{db_port}/{db_name}\"\n",
    "\n",
    "# Create a SQLAlchemy engine\n",
    "engine = create_engine(db_uri)\n",
    "\n",
    "# Define the column data types\n",
    "column_types = {\n",
    "    'route_name': String,\n",
    "    'shape_id': String,\n",
    "    'stop_id': String\n",
    "}\n",
    "\n",
    "# Store the dataframe in the PostgreSQL database\n",
    "distinct_data.to_sql('stoptrips_table', engine, if_exists='replace', dtype=column_types, index = False)\n"
   ]
  }
 ],
 "metadata": {
  "kernelspec": {
   "display_name": "lab",
   "language": "python",
   "name": "python3"
  },
  "language_info": {
   "codemirror_mode": {
    "name": "ipython",
    "version": 3
   },
   "file_extension": ".py",
   "mimetype": "text/x-python",
   "name": "python",
   "nbconvert_exporter": "python",
   "pygments_lexer": "ipython3",
   "version": "3.9.16"
  },
  "orig_nbformat": 4
 },
 "nbformat": 4,
 "nbformat_minor": 2
}
